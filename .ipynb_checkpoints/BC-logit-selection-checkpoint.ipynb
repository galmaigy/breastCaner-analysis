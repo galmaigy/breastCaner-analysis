{
 "cells": [
  {
   "cell_type": "code",
   "execution_count": 2,
   "metadata": {},
   "outputs": [],
   "source": [
    "import pandas as pd\n",
    "import numpy as np\n",
    "\n",
    "# Breast Cancer 데이터셋 가져오기 (출처: UCI ML Repository)\n",
    "uci_path = \"https://archive.ics.uci.edu/ml/machine-learning-databases/breast-cancer-wisconsin/wdbc.data\"\n",
    "df = pd.read_csv(uci_path, header=None)\n",
    "\n",
    "# 열 이름 지정\n",
    "df.columns = ['id_number', 'diagnosis', 'radius_mean', \n",
    "              'texture_mean', 'perimeter_mean', 'area_mean', \n",
    "              'smoothness_mean', 'compactness_mean', \n",
    "              'concavity_mean','concave_points_mean', \n",
    "              'symmetry_mean', 'fractal_dimension_mean',\n",
    "              'radius_se', 'texture_se', 'perimeter_se', \n",
    "              'area_se', 'smoothness_se', 'compactness_se', \n",
    "              'concavity_se', 'concave_points_se', \n",
    "              'symmetry_se', 'fractal_dimension_se', \n",
    "              'radius_worst', 'texture_worst', \n",
    "              'perimeter_worst', 'area_worst', \n",
    "              'smoothness_worst', 'compactness_worst', \n",
    "              'concavity_worst', 'concave_points_worst', \n",
    "              'symmetry_worst', 'fractal_dimension_worst'] \n",
    "#  IPython 디스플레이 설정 - 출력할 열의 개수 한도 늘리기\n",
    "pd.set_option('display.max_columns', 30)"
   ]
  },
  {
   "cell_type": "code",
   "execution_count": 6,
   "metadata": {},
   "outputs": [
    {
     "data": {
      "text/html": [
       "<style  type=\"text/css\" >\n",
       "    #T_f703174c_4e98_11ea_b878_94659cf2df45row0_col0 {\n",
       "            background-color:  #b40426;\n",
       "            color:  #f1f1f1;\n",
       "        }    #T_f703174c_4e98_11ea_b878_94659cf2df45row0_col1 {\n",
       "            background-color:  #8caffe;\n",
       "            color:  #000000;\n",
       "        }    #T_f703174c_4e98_11ea_b878_94659cf2df45row0_col2 {\n",
       "            background-color:  #4961d2;\n",
       "            color:  #f1f1f1;\n",
       "        }    #T_f703174c_4e98_11ea_b878_94659cf2df45row0_col3 {\n",
       "            background-color:  #86a9fc;\n",
       "            color:  #000000;\n",
       "        }    #T_f703174c_4e98_11ea_b878_94659cf2df45row0_col4 {\n",
       "            background-color:  #4a63d3;\n",
       "            color:  #f1f1f1;\n",
       "        }    #T_f703174c_4e98_11ea_b878_94659cf2df45row1_col0 {\n",
       "            background-color:  #b2ccfb;\n",
       "            color:  #000000;\n",
       "        }    #T_f703174c_4e98_11ea_b878_94659cf2df45row1_col1 {\n",
       "            background-color:  #b40426;\n",
       "            color:  #f1f1f1;\n",
       "        }    #T_f703174c_4e98_11ea_b878_94659cf2df45row1_col2 {\n",
       "            background-color:  #efcfbf;\n",
       "            color:  #000000;\n",
       "        }    #T_f703174c_4e98_11ea_b878_94659cf2df45row1_col3 {\n",
       "            background-color:  #7699f6;\n",
       "            color:  #000000;\n",
       "        }    #T_f703174c_4e98_11ea_b878_94659cf2df45row1_col4 {\n",
       "            background-color:  #cedaeb;\n",
       "            color:  #000000;\n",
       "        }    #T_f703174c_4e98_11ea_b878_94659cf2df45row2_col0 {\n",
       "            background-color:  #3b4cc0;\n",
       "            color:  #f1f1f1;\n",
       "        }    #T_f703174c_4e98_11ea_b878_94659cf2df45row2_col1 {\n",
       "            background-color:  #d9dce1;\n",
       "            color:  #000000;\n",
       "        }    #T_f703174c_4e98_11ea_b878_94659cf2df45row2_col2 {\n",
       "            background-color:  #b40426;\n",
       "            color:  #f1f1f1;\n",
       "        }    #T_f703174c_4e98_11ea_b878_94659cf2df45row2_col3 {\n",
       "            background-color:  #3b4cc0;\n",
       "            color:  #f1f1f1;\n",
       "        }    #T_f703174c_4e98_11ea_b878_94659cf2df45row2_col4 {\n",
       "            background-color:  #3b4cc0;\n",
       "            color:  #f1f1f1;\n",
       "        }    #T_f703174c_4e98_11ea_b878_94659cf2df45row3_col0 {\n",
       "            background-color:  #799cf8;\n",
       "            color:  #000000;\n",
       "        }    #T_f703174c_4e98_11ea_b878_94659cf2df45row3_col1 {\n",
       "            background-color:  #3b4cc0;\n",
       "            color:  #f1f1f1;\n",
       "        }    #T_f703174c_4e98_11ea_b878_94659cf2df45row3_col2 {\n",
       "            background-color:  #3b4cc0;\n",
       "            color:  #f1f1f1;\n",
       "        }    #T_f703174c_4e98_11ea_b878_94659cf2df45row3_col3 {\n",
       "            background-color:  #b40426;\n",
       "            color:  #f1f1f1;\n",
       "        }    #T_f703174c_4e98_11ea_b878_94659cf2df45row3_col4 {\n",
       "            background-color:  #445acc;\n",
       "            color:  #f1f1f1;\n",
       "        }    #T_f703174c_4e98_11ea_b878_94659cf2df45row4_col0 {\n",
       "            background-color:  #bad0f8;\n",
       "            color:  #000000;\n",
       "        }    #T_f703174c_4e98_11ea_b878_94659cf2df45row4_col1 {\n",
       "            background-color:  #efcfbf;\n",
       "            color:  #000000;\n",
       "        }    #T_f703174c_4e98_11ea_b878_94659cf2df45row4_col2 {\n",
       "            background-color:  #b9d0f9;\n",
       "            color:  #000000;\n",
       "        }    #T_f703174c_4e98_11ea_b878_94659cf2df45row4_col3 {\n",
       "            background-color:  #c0d4f5;\n",
       "            color:  #000000;\n",
       "        }    #T_f703174c_4e98_11ea_b878_94659cf2df45row4_col4 {\n",
       "            background-color:  #b40426;\n",
       "            color:  #f1f1f1;\n",
       "        }</style><table id=\"T_f703174c_4e98_11ea_b878_94659cf2df45\" ><thead>    <tr>        <th class=\"blank level0\" ></th>        <th class=\"col_heading level0 col0\" >radius_se</th>        <th class=\"col_heading level0 col1\" >compactness_se</th>        <th class=\"col_heading level0 col2\" >fractal_dimension_mean</th>        <th class=\"col_heading level0 col3\" >texture_worst</th>        <th class=\"col_heading level0 col4\" >concavity_worst</th>    </tr></thead><tbody>\n",
       "                <tr>\n",
       "                        <th id=\"T_f703174c_4e98_11ea_b878_94659cf2df45level0_row0\" class=\"row_heading level0 row0\" >radius_se</th>\n",
       "                        <td id=\"T_f703174c_4e98_11ea_b878_94659cf2df45row0_col0\" class=\"data row0 col0\" >1</td>\n",
       "                        <td id=\"T_f703174c_4e98_11ea_b878_94659cf2df45row0_col1\" class=\"data row0 col1\" >0.36</td>\n",
       "                        <td id=\"T_f703174c_4e98_11ea_b878_94659cf2df45row0_col2\" class=\"data row0 col2\" >0.00011</td>\n",
       "                        <td id=\"T_f703174c_4e98_11ea_b878_94659cf2df45row0_col3\" class=\"data row0 col3\" >0.19</td>\n",
       "                        <td id=\"T_f703174c_4e98_11ea_b878_94659cf2df45row0_col4\" class=\"data row0 col4\" >0.38</td>\n",
       "            </tr>\n",
       "            <tr>\n",
       "                        <th id=\"T_f703174c_4e98_11ea_b878_94659cf2df45level0_row1\" class=\"row_heading level0 row1\" >compactness_se</th>\n",
       "                        <td id=\"T_f703174c_4e98_11ea_b878_94659cf2df45row1_col0\" class=\"data row1 col0\" >0.36</td>\n",
       "                        <td id=\"T_f703174c_4e98_11ea_b878_94659cf2df45row1_col1\" class=\"data row1 col1\" >1</td>\n",
       "                        <td id=\"T_f703174c_4e98_11ea_b878_94659cf2df45row1_col2\" class=\"data row1 col2\" >0.56</td>\n",
       "                        <td id=\"T_f703174c_4e98_11ea_b878_94659cf2df45row1_col3\" class=\"data row1 col3\" >0.14</td>\n",
       "                        <td id=\"T_f703174c_4e98_11ea_b878_94659cf2df45row1_col4\" class=\"data row1 col4\" >0.64</td>\n",
       "            </tr>\n",
       "            <tr>\n",
       "                        <th id=\"T_f703174c_4e98_11ea_b878_94659cf2df45level0_row2\" class=\"row_heading level0 row2\" >fractal_dimension_mean</th>\n",
       "                        <td id=\"T_f703174c_4e98_11ea_b878_94659cf2df45row2_col0\" class=\"data row2 col0\" >0.00011</td>\n",
       "                        <td id=\"T_f703174c_4e98_11ea_b878_94659cf2df45row2_col1\" class=\"data row2 col1\" >0.56</td>\n",
       "                        <td id=\"T_f703174c_4e98_11ea_b878_94659cf2df45row2_col2\" class=\"data row2 col2\" >1</td>\n",
       "                        <td id=\"T_f703174c_4e98_11ea_b878_94659cf2df45row2_col3\" class=\"data row2 col3\" >-0.051</td>\n",
       "                        <td id=\"T_f703174c_4e98_11ea_b878_94659cf2df45row2_col4\" class=\"data row2 col4\" >0.35</td>\n",
       "            </tr>\n",
       "            <tr>\n",
       "                        <th id=\"T_f703174c_4e98_11ea_b878_94659cf2df45level0_row3\" class=\"row_heading level0 row3\" >texture_worst</th>\n",
       "                        <td id=\"T_f703174c_4e98_11ea_b878_94659cf2df45row3_col0\" class=\"data row3 col0\" >0.19</td>\n",
       "                        <td id=\"T_f703174c_4e98_11ea_b878_94659cf2df45row3_col1\" class=\"data row3 col1\" >0.14</td>\n",
       "                        <td id=\"T_f703174c_4e98_11ea_b878_94659cf2df45row3_col2\" class=\"data row3 col2\" >-0.051</td>\n",
       "                        <td id=\"T_f703174c_4e98_11ea_b878_94659cf2df45row3_col3\" class=\"data row3 col3\" >1</td>\n",
       "                        <td id=\"T_f703174c_4e98_11ea_b878_94659cf2df45row3_col4\" class=\"data row3 col4\" >0.37</td>\n",
       "            </tr>\n",
       "            <tr>\n",
       "                        <th id=\"T_f703174c_4e98_11ea_b878_94659cf2df45level0_row4\" class=\"row_heading level0 row4\" >concavity_worst</th>\n",
       "                        <td id=\"T_f703174c_4e98_11ea_b878_94659cf2df45row4_col0\" class=\"data row4 col0\" >0.38</td>\n",
       "                        <td id=\"T_f703174c_4e98_11ea_b878_94659cf2df45row4_col1\" class=\"data row4 col1\" >0.64</td>\n",
       "                        <td id=\"T_f703174c_4e98_11ea_b878_94659cf2df45row4_col2\" class=\"data row4 col2\" >0.35</td>\n",
       "                        <td id=\"T_f703174c_4e98_11ea_b878_94659cf2df45row4_col3\" class=\"data row4 col3\" >0.37</td>\n",
       "                        <td id=\"T_f703174c_4e98_11ea_b878_94659cf2df45row4_col4\" class=\"data row4 col4\" >1</td>\n",
       "            </tr>\n",
       "    </tbody></table>"
      ],
      "text/plain": [
       "<pandas.io.formats.style.Styler at 0x1c8fdfdae10>"
      ]
     },
     "execution_count": 6,
     "metadata": {},
     "output_type": "execute_result"
    }
   ],
   "source": [
    "feature_selection = ['radius_se','compactness_se','fractal_dimension_mean','texture_worst','concavity_worst']\n",
    "\n",
    "corr=df.loc[:,feature_selection].corr()\n",
    "corr.style.background_gradient(cmap='coolwarm').set_precision(2)\n"
   ]
  },
  {
   "cell_type": "code",
   "execution_count": 7,
   "metadata": {},
   "outputs": [
    {
     "name": "stdout",
     "output_type": "stream",
     "text": [
      "train data 개수:  (398, 5)\n",
      "test data 개수:  (171, 5)\n",
      "\n",
      "\n"
     ]
    }
   ],
   "source": [
    "#속성 변수 선택\n",
    "X=df.loc[:,feature_selection]\n",
    "y=df['diagnosis']\n",
    "\n",
    "# 설명 변수 데이터를 정규화\n",
    "from sklearn import preprocessing\n",
    "X = preprocessing.StandardScaler().fit(X).transform(X)\n",
    "\n",
    "# train data 와 test data로 구분(7:3 비율)\n",
    "from sklearn.model_selection import train_test_split\n",
    "X_train, X_test, y_train, y_test = train_test_split(X, y, test_size=0.3, random_state=10) \n",
    "\n",
    "print('train data 개수: ', X_train.shape)\n",
    "print('test data 개수: ', X_test.shape)\n",
    "print('\\n')"
   ]
  },
  {
   "cell_type": "code",
   "execution_count": 8,
   "metadata": {},
   "outputs": [
    {
     "name": "stdout",
     "output_type": "stream",
     "text": [
      "train_score:  0.9447236180904522\n",
      "Test_score:  0.9239766081871345\n"
     ]
    }
   ],
   "source": [
    "# model.fit\n",
    "# run logistic regression and vary some parameters\n",
    "from sklearn.linear_model import LogisticRegression\n",
    "from sklearn import metrics as mt\n",
    "\n",
    "model_logit = LogisticRegression()\n",
    "model_logit.fit(X_train, y_train)\n",
    "\n",
    "print('train_score: ', model_logit.score(X_train, y_train))\n",
    "print('Test_score: ', model_logit.score(X_test, y_test))"
   ]
  },
  {
   "cell_type": "code",
   "execution_count": 9,
   "metadata": {},
   "outputs": [
    {
     "name": "stdout",
     "output_type": "stream",
     "text": [
      "accuracy 0.9239766081871345\n",
      "confusion matrix\n",
      " [[104   8]\n",
      " [  5  54]]\n",
      "              precision    recall  f1-score   support\n",
      "\n",
      "           B       0.95      0.93      0.94       112\n",
      "           M       0.87      0.92      0.89        59\n",
      "\n",
      "    accuracy                           0.92       171\n",
      "   macro avg       0.91      0.92      0.92       171\n",
      "weighted avg       0.93      0.92      0.92       171\n",
      "\n"
     ]
    }
   ],
   "source": [
    "y_hat = model_logit.predict(X_test) # get test set precitions\n",
    "\n",
    "\n",
    "# now let's get the accuracy and confusion matrix for this iterations of training/testing\n",
    "acc = mt.accuracy_score(y_test,y_hat)\n",
    "conf = mt.confusion_matrix(y_test,y_hat)\n",
    "\n",
    "print(\"accuracy\", acc )\n",
    "print(\"confusion matrix\\n\",conf)\n",
    "\n",
    "# 모형 성능 평가 - 평가지표 계산\n",
    "logit_report = mt.classification_report(y_test, y_hat)            \n",
    "print(logit_report)"
   ]
  },
  {
   "cell_type": "code",
   "execution_count": 10,
   "metadata": {},
   "outputs": [
    {
     "name": "stdout",
     "output_type": "stream",
     "text": [
      "radius_se has weight of 3.032748700406972\n",
      "compactness_se has weight of -1.015993769718795\n",
      "fractal_dimension_mean has weight of -0.7886048495864941\n",
      "texture_worst has weight of 1.1214801923225994\n",
      "concavity_worst has weight of 3.2880545937045587\n"
     ]
    }
   ],
   "source": [
    "# iterate over the coefficients\n",
    "weights = model_logit.coef_.T # take transpose to make a column vector\n",
    "variable_names = df[feature_selection].columns\n",
    "for coef, name in zip(weights,variable_names):\n",
    "    print(name, 'has weight of', coef[0])"
   ]
  },
  {
   "cell_type": "code",
   "execution_count": 12,
   "metadata": {},
   "outputs": [
    {
     "data": {
      "image/png": "[encoded data removed]",
      "text/plain": [
       "<Figure size 1440x720 with 1 Axes>"
      ]
     },
     "metadata": {},
     "output_type": "display_data"
    }
   ],
   "source": [
    "# now let's make a pandas Series with the names and values, and plot them\n",
    "from matplotlib import pyplot as plt\n",
    "%matplotlib inline\n",
    "plt.style.use('ggplot')\n",
    "\n",
    "plt.figure(figsize = (20,10))\n",
    "weights = pd.Series(model_logit.coef_[0],index=df[feature_selection].columns)\n",
    "weights.plot(kind='bar')\n",
    "plt.show()"
   ]
  },
  {
   "cell_type": "code",
   "execution_count": null,
   "metadata": {},
   "outputs": [],
   "source": []
  }
 ],
 "metadata": {
  "kernelspec": {
   "display_name": "Python 3",
   "language": "python",
   "name": "python3"
  },
  "language_info": {
   "codemirror_mode": {
    "name": "ipython",
    "version": 3
   },
   "file_extension": ".py",
   "mimetype": "text/x-python",
   "name": "python",
   "nbconvert_exporter": "python",
   "pygments_lexer": "ipython3",
   "version": "3.7.1"
  }
 },
 "nbformat": 4,
 "nbformat_minor": 2
}
