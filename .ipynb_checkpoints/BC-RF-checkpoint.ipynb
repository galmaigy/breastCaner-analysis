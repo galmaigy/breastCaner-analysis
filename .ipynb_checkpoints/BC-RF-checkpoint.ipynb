{
 "cells": [
  {
   "cell_type": "code",
   "execution_count": 30,
   "metadata": {},
   "outputs": [
    {
     "name": "stdout",
     "output_type": "stream",
     "text": [
      "train data 개수:  (398, 30)\n",
      "test data 개수:  (171, 30)\n",
      "\n",
      "\n"
     ]
    }
   ],
   "source": [
    "import pandas as pd\n",
    "import numpy as np\n",
    "\n",
    "# Breast Cancer 데이터셋 가져오기 (출처: UCI ML Repository)\n",
    "uci_path = \"https://archive.ics.uci.edu/ml/machine-learning-databases/breast-cancer-wisconsin/wdbc.data\"\n",
    "df = pd.read_csv(uci_path, header=None)\n",
    "\n",
    "# 열 이름 지정\n",
    "df.columns = ['id_number', 'diagnosis', 'radius_mean', \n",
    "              'texture_mean', 'perimeter_mean', 'area_mean', \n",
    "              'smoothness_mean', 'compactness_mean', \n",
    "              'concavity_mean','concave_points_mean', \n",
    "              'symmetry_mean', 'fractal_dimension_mean',\n",
    "              'radius_se', 'texture_se', 'perimeter_se', \n",
    "              'area_se', 'smoothness_se', 'compactness_se', \n",
    "              'concavity_se', 'concave_points_se', \n",
    "              'symmetry_se', 'fractal_dimension_se', \n",
    "              'radius_worst', 'texture_worst', \n",
    "              'perimeter_worst', 'area_worst', \n",
    "              'smoothness_worst', 'compactness_worst', \n",
    "              'concavity_worst', 'concave_points_worst', \n",
    "              'symmetry_worst', 'fractal_dimension_worst'] \n",
    "#  IPython 디스플레이 설정 - 출력할 열의 개수 한도 늘리기\n",
    "pd.set_option('display.max_columns', 30)\n",
    "#속성 변수 선택\n",
    "\n",
    "# feature_selection = ['radius_se','compactness_se','fractal_dimension_mean','texture_worst','concavity_worst']\n",
    "\n",
    "# X=df.loc[:,feature_selection]\n",
    "X=df.iloc[:,2:]\n",
    "y=df['diagnosis']\n",
    "\n",
    "feature_selection = df.iloc[:,2:]\n",
    "\n",
    "# 설명 변수 데이터를 정규화\n",
    "from sklearn import preprocessing\n",
    "X = preprocessing.StandardScaler().fit(X).transform(X)\n",
    "\n",
    "# train data 와 test data로 구분(7:3 비율)\n",
    "from sklearn.model_selection import train_test_split\n",
    "X_train, X_test, y_train, y_test = train_test_split(X, y, test_size=0.3, random_state=10) \n",
    "\n",
    "print('train data 개수: ', X_train.shape)\n",
    "print('test data 개수: ', X_test.shape)\n",
    "print('\\n')"
   ]
  },
  {
   "cell_type": "code",
   "execution_count": 31,
   "metadata": {},
   "outputs": [
    {
     "name": "stdout",
     "output_type": "stream",
     "text": [
      "['M' 'B' 'B' 'M' 'B' 'B' 'B' 'B' 'M' 'M']\n",
      "['M' 'B' 'B' 'M' 'B' 'B' 'B' 'B' 'M' 'M']\n",
      "0.9497\n",
      "0.94975\n"
     ]
    }
   ],
   "source": [
    "from sklearn.ensemble import RandomForestClassifier\n",
    "\n",
    "model_rf = RandomForestClassifier(criterion='entropy', \n",
    "                             n_estimators=2000,\n",
    "                             min_samples_split=10,\n",
    "                             min_samples_leaf=1,\n",
    "                             max_features='auto',\n",
    "                             oob_score=True,\n",
    "                             random_state=1,\n",
    "                             n_jobs=-1)\n",
    "model_rf.fit(X_train, y_train)\n",
    "y_hat = model_rf.predict(X_test)\n",
    "\n",
    "print(y_hat[0:10])\n",
    "print(y_test.values[0:10])\n",
    "\n",
    "print(\"%.4f\" % model_rf.oob_score_)\n",
    "print(\"%.5f\" %model_rf.oob_score_)"
   ]
  },
  {
   "cell_type": "code",
   "execution_count": 32,
   "metadata": {},
   "outputs": [
    {
     "name": "stdout",
     "output_type": "stream",
     "text": [
      "train accuracy 0.9899497487437185\n",
      "accuracy 0.9824561403508771\n",
      "confusion matrix\n",
      " [[109   3]\n",
      " [  0  59]]\n",
      "              precision    recall  f1-score   support\n",
      "\n",
      "           B       1.00      0.97      0.99       112\n",
      "           M       0.95      1.00      0.98        59\n",
      "\n",
      "    accuracy                           0.98       171\n",
      "   macro avg       0.98      0.99      0.98       171\n",
      "weighted avg       0.98      0.98      0.98       171\n",
      "\n"
     ]
    }
   ],
   "source": [
    "# model 성능확인\n",
    "from sklearn import metrics as mt\n",
    "\n",
    "y_hat_t=model_rf.predict(X_train)\n",
    "\n",
    "t_acc = mt.accuracy_score(y_train, y_hat_t)\n",
    "acc = mt.accuracy_score(y_test,y_hat)\n",
    "conf = mt.confusion_matrix(y_test,y_hat)\n",
    "\n",
    "print(\"train accuracy\", t_acc)\n",
    "print(\"accuracy\", acc )\n",
    "print(\"confusion matrix\\n\",conf)\n",
    "\n",
    "# 모형 성능 평가 - 평가지표 계산\n",
    "report_rf = mt.classification_report(y_test, y_hat)            \n",
    "print(report_rf)"
   ]
  },
  {
   "cell_type": "code",
   "execution_count": 33,
   "metadata": {},
   "outputs": [
    {
     "name": "stdout",
     "output_type": "stream",
     "text": [
      "                   variable  importance\n",
      "22          perimeter_worst    0.140175\n",
      "27     concave_points_worst    0.123035\n",
      "23               area_worst    0.118617\n",
      "20             radius_worst    0.099097\n",
      "7       concave_points_mean    0.088559\n",
      "3                 area_mean    0.048080\n",
      "6            concavity_mean    0.047754\n",
      "26          concavity_worst    0.045850\n",
      "0               radius_mean    0.045568\n",
      "2            perimeter_mean    0.043450\n",
      "13                  area_se    0.028837\n",
      "21            texture_worst    0.023772\n",
      "1              texture_mean    0.018348\n",
      "24         smoothness_worst    0.016131\n",
      "25        compactness_worst    0.016130\n",
      "12             perimeter_se    0.013876\n",
      "10                radius_se    0.012018\n",
      "5          compactness_mean    0.009876\n",
      "28           symmetry_worst    0.009787\n",
      "29  fractal_dimension_worst    0.007746\n"
     ]
    },
    {
     "data": {
      "image/png": "[encoded data removed]",
      "text/plain": [
       "<Figure size 432x288 with 1 Axes>"
      ]
     },
     "metadata": {
      "needs_background": "light"
     },
     "output_type": "display_data"
    }
   ],
   "source": [
    "# variable importance\n",
    "import matplotlib.pyplot as plt\n",
    "\n",
    "a= pd.concat((pd.DataFrame(df.iloc[:,2:].columns, columns = ['variable']), \n",
    "           pd.DataFrame(model_rf.feature_importances_, columns = ['importance'])), \n",
    "          axis = 1).sort_values(by='importance', ascending = False)[:20]\n",
    "\n",
    "print(pd.concat((pd.DataFrame(df.iloc[:,2:].columns, columns = ['variable']), \n",
    "           pd.DataFrame(model_rf.feature_importances_, columns = ['importance'])), \n",
    "          axis = 1).sort_values(by='importance', ascending = False)[:20]\n",
    "     )\n",
    "a.plot(kind='bar')\n",
    "plt.show()\n",
    "# model_rf.feature_importances_"
   ]
  },
  {
   "cell_type": "code",
   "execution_count": 34,
   "metadata": {},
   "outputs": [
    {
     "data": {
      "image/png": "[encoded data removed]",
      "text/plain": [
       "<Figure size 720x360 with 1 Axes>"
      ]
     },
     "metadata": {
      "needs_background": "light"
     },
     "output_type": "display_data"
    }
   ],
   "source": [
    "# roc curve\n",
    "from sklearn.metrics import plot_roc_curve\n",
    "\n",
    "fig = plt.figure(figsize=(10, 5))\n",
    "ax = fig.add_subplot(111)\n",
    "ax.set_title(\"ROC curve for Random Forest\")\n",
    "# ax.set_xlabel(\"False positive rate\")\n",
    "# ax.set_ylabel(\"True positive rate\")\n",
    "\n",
    "rf_disp = plot_roc_curve(model_rf,X_test, y_test,ax=ax, alpha=0.8)\n",
    "plt.show()\n"
   ]
  },
  {
   "cell_type": "code",
   "execution_count": 35,
   "metadata": {},
   "outputs": [
    {
     "name": "stdout",
     "output_type": "stream",
     "text": [
      "Test_score:  0.9649122807017544\n"
     ]
    },
    {
     "data": {
      "image/png": "[encoded data removed]",
      "text/plain": [
       "<Figure size 432x288 with 1 Axes>"
      ]
     },
     "metadata": {
      "needs_background": "light"
     },
     "output_type": "display_data"
    }
   ],
   "source": [
    "# model.fit\n",
    "# run logistic regression and vary some parameters\n",
    "from sklearn.linear_model import LogisticRegression\n",
    "from sklearn import metrics as mt\n",
    "\n",
    "model_logit = LogisticRegression()\n",
    "model_logit.fit(X_train, y_train)\n",
    "logit_disp = plot_roc_curve(model_logit, X_test, y_test)\n",
    "print('Test_score: ', model_logit.score(X_test, y_test))"
   ]
  },
  {
   "cell_type": "code",
   "execution_count": 36,
   "metadata": {},
   "outputs": [
    {
     "data": {
      "image/png": "[encoded data removed]",
      "text/plain": [
       "<Figure size 720x360 with 1 Axes>"
      ]
     },
     "metadata": {
      "needs_background": "light"
     },
     "output_type": "display_data"
    }
   ],
   "source": [
    "# roc curve\n",
    "from sklearn.metrics import plot_roc_curve\n",
    "\n",
    "fig = plt.figure(figsize=(10, 5))\n",
    "ax = fig.add_subplot(111)\n",
    "ax.set_title(\"ROC curve comparison\")\n",
    "logit_disp.plot(ax=ax,alpha=0.8)\n",
    "\n",
    "rf_disp = plot_roc_curve(model_rf,X_test, y_test,ax=ax, alpha=0.8)\n",
    "plt.show()"
   ]
  },
  {
   "cell_type": "code",
   "execution_count": null,
   "metadata": {},
   "outputs": [],
   "source": []
  }
 ],
 "metadata": {
  "kernelspec": {
   "display_name": "Python 3",
   "language": "python",
   "name": "python3"
  },
  "language_info": {
   "codemirror_mode": {
    "name": "ipython",
    "version": 3
   },
   "file_extension": ".py",
   "mimetype": "text/x-python",
   "name": "python",
   "nbconvert_exporter": "python",
   "pygments_lexer": "ipython3",
   "version": "3.7.1"
  }
 },
 "nbformat": 4,
 "nbformat_minor": 2
}
