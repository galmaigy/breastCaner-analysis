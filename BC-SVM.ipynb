{
 "cells": [
  {
   "cell_type": "code",
   "execution_count": 6,
   "metadata": {},
   "outputs": [],
   "source": [
    "import pandas as pd\n",
    "import numpy as np\n",
    "\n",
    "# Breast Cancer 데이터셋 가져오기 (출처: UCI ML Repository)\n",
    "uci_path = \"https://archive.ics.uci.edu/ml/machine-learning-databases/breast-cancer-wisconsin/wdbc.data\"\n",
    "df = pd.read_csv(uci_path, header=None)\n",
    "\n",
    "# 열 이름 지정\n",
    "df.columns = ['id_number', 'diagnosis', 'radius_mean', \n",
    "              'texture_mean', 'perimeter_mean', 'area_mean', \n",
    "              'smoothness_mean', 'compactness_mean', \n",
    "              'concavity_mean','concave_points_mean', \n",
    "              'symmetry_mean', 'fractal_dimension_mean',\n",
    "              'radius_se', 'texture_se', 'perimeter_se', \n",
    "              'area_se', 'smoothness_se', 'compactness_se', \n",
    "              'concavity_se', 'concave_points_se', \n",
    "              'symmetry_se', 'fractal_dimension_se', \n",
    "              'radius_worst', 'texture_worst', \n",
    "              'perimeter_worst', 'area_worst', \n",
    "              'smoothness_worst', 'compactness_worst', \n",
    "              'concavity_worst', 'concave_points_worst', \n",
    "              'symmetry_worst', 'fractal_dimension_worst'] \n",
    "#  IPython 디스플레이 설정 - 출력할 열의 개수 한도 늘리기\n",
    "pd.set_option('display.max_columns', 30)"
   ]
  },
  {
   "cell_type": "code",
   "execution_count": 12,
   "metadata": {},
   "outputs": [
    {
     "name": "stdout",
     "output_type": "stream",
     "text": [
      "train data 개수:  (398, 30)\n",
      "test data 개수:  (171, 30)\n",
      "\n",
      "\n"
     ]
    }
   ],
   "source": [
    "#속성 변수 선택\n",
    "\n",
    "# feature_selection = ['radius_se','compactness_se','fractal_dimension_mean','texture_worst','concavity_worst']\n",
    "\n",
    "# X=df.loc[:,feature_selection]\n",
    "X=df.iloc[:,2:]\n",
    "y=df['diagnosis']\n",
    "\n",
    "feature_selection = df.iloc[:,2:]\n",
    "\n",
    "# 설명 변수 데이터를 정규화\n",
    "from sklearn import preprocessing\n",
    "X = preprocessing.StandardScaler().fit(X).transform(X)\n",
    "\n",
    "# train data 와 test data로 구분(7:3 비율)\n",
    "from sklearn.model_selection import train_test_split\n",
    "X_train, X_test, y_train, y_test = train_test_split(X, y, test_size=0.3, random_state=10) \n",
    "\n",
    "print('train data 개수: ', X_train.shape)\n",
    "print('test data 개수: ', X_test.shape)\n",
    "print('\\n')"
   ]
  },
  {
   "cell_type": "code",
   "execution_count": 13,
   "metadata": {},
   "outputs": [
    {
     "name": "stdout",
     "output_type": "stream",
     "text": [
      "['M' 'B' 'B' 'M' 'B' 'M' 'B' 'B' 'M' 'M']\n",
      "['M' 'B' 'B' 'M' 'B' 'B' 'B' 'B' 'M' 'M']\n",
      "\n",
      "\n"
     ]
    }
   ],
   "source": [
    "# sklearn 라이브러리에서 SVM 분류 모형 가져오기\n",
    "from sklearn import svm\n",
    "\n",
    "# 모형 객체 생성 (kernel='rbf' 적용)\n",
    "svm_model = svm.SVC(kernel='rbf')\n",
    "\n",
    "# train data를 가지고 모형 학습\n",
    "svm_model.fit(X_train, y_train)   \n",
    "\n",
    "# test data를 가지고 y_hat을 예측 (분류) \n",
    "y_hat = svm_model.predict(X_test)\n",
    "\n",
    "print(y_hat[0:10])\n",
    "print(y_test.values[0:10])\n",
    "print('\\n')"
   ]
  },
  {
   "cell_type": "code",
   "execution_count": 14,
   "metadata": {},
   "outputs": [
    {
     "name": "stdout",
     "output_type": "stream",
     "text": [
      "[[109   3]\n",
      " [  0  59]]\n",
      "\n",
      "\n",
      "train_score:  0.9824120603015075\n",
      "Test_score:  0.9824561403508771\n",
      "              precision    recall  f1-score   support\n",
      "\n",
      "           B       1.00      0.97      0.99       112\n",
      "           M       0.95      1.00      0.98        59\n",
      "\n",
      "    accuracy                           0.98       171\n",
      "   macro avg       0.98      0.99      0.98       171\n",
      "weighted avg       0.98      0.98      0.98       171\n",
      "\n"
     ]
    }
   ],
   "source": [
    "# 모형 성능 평가 - Confusion Matrix 계산\n",
    "from sklearn import metrics \n",
    "svm_matrix = metrics.confusion_matrix(y_test, y_hat)  \n",
    "print(svm_matrix)\n",
    "print('\\n')\n",
    "\n",
    "\n",
    "print('train_score: ', svm_model.score(X_train, y_train))\n",
    "print('Test_score: ', svm_model.score(X_test, y_test))\n",
    "\n",
    "# 모형 성능 평가 - 평가지표 계산\n",
    "svm_report = metrics.classification_report(y_test, y_hat)            \n",
    "print(svm_report)"
   ]
  },
  {
   "cell_type": "code",
   "execution_count": null,
   "metadata": {},
   "outputs": [],
   "source": []
  }
 ],
 "metadata": {
  "kernelspec": {
   "display_name": "Python 3",
   "language": "python",
   "name": "python3"
  },
  "language_info": {
   "codemirror_mode": {
    "name": "ipython",
    "version": 3
   },
   "file_extension": ".py",
   "mimetype": "text/x-python",
   "name": "python",
   "nbconvert_exporter": "python",
   "pygments_lexer": "ipython3",
   "version": "3.7.1"
  }
 },
 "nbformat": 4,
 "nbformat_minor": 2
}
